{
  "nbformat": 4,
  "nbformat_minor": 0,
  "metadata": {
    "colab": {
      "provenance": []
    },
    "kernelspec": {
      "name": "python3",
      "display_name": "Python 3"
    },
    "language_info": {
      "name": "python"
    }
  },
  "cells": [
    {
      "cell_type": "code",
      "source": [
        "import numpy\n",
        "\n",
        "def Viterbi_Algorithm(A, states, emissions, prior_probabilities, B, sequence):\n",
        "    probabilities = []\n",
        "\n",
        "    #convert given sequence of strings to indices\n",
        "    emissions_dict = dict(zip(emissions, list(range(len(emissions)))))\n",
        "    emissions_sequence = []\n",
        "    for item in sequence:\n",
        "        emissions_sequence.append(emissions_dict[item])\n",
        "\n",
        "    #first maximal probability\n",
        "    probabilities.append(\n",
        "        tuple(\n",
        "            prior_probabilities[state]*B[state, emissions_sequence[0]]\n",
        "            for state in range(len(states)))\n",
        "    )\n",
        "\n",
        "    for i in range(1, len(emissions_sequence)):\n",
        "        previous_probabilities = probabilities[-1]\n",
        "        current_probabilities = []\n",
        "        for col in range(len(A[0,:])):\n",
        "            p = max(\n",
        "                previous_probabilities[state]*A[state,col]*B[col,emissions_sequence[i]]\n",
        "                for state in range(len(states))\n",
        "            )\n",
        "            current_probabilities.append(p)\n",
        "        probabilities.append(tuple(current_probabilities))\n",
        "\n",
        "    #find the sequence of hidden states\n",
        "    hidden_states_sequence = []\n",
        "    for i in probabilities:\n",
        "        hidden_state = states[numpy.argmax(i)]\n",
        "        hidden_states_sequence.append(hidden_state)\n",
        "\n",
        "    print(sequence)\n",
        "    print(hidden_states_sequence)\n",
        "    return probabilities, hidden_states_sequence\n"
      ],
      "metadata": {
        "id": "th52kCygt5-Y"
      },
      "execution_count": 1,
      "outputs": []
    },
    {
      "cell_type": "code",
      "source": [
        "if __name__ == \"__main__\":\n",
        "    %run example_sets.py\n",
        "\n",
        "    transition_probability_matrix,\\\n",
        "    hidden_states,\\\n",
        "    observations,\\\n",
        "    prior_probabilities,\\\n",
        "    emission_probabilities_matrix,\\\n",
        "    emissions_sequence = example_sets.happy_sad_robot()\n",
        "\n",
        "    P = Viterbi_Algorithm(\n",
        "        transition_probability_matrix,\n",
        "        hidden_states,\n",
        "        observations,\n",
        "        prior_probabilities,\n",
        "        emission_probabilities_matrix,\n",
        "        emissions_sequence)"
      ],
      "metadata": {
        "colab": {
          "base_uri": "https://localhost:8080/"
        },
        "id": "DVPNFrGfuATo",
        "outputId": "20639e7d-3600-4856-ed4b-4337540e7b9f"
      },
      "execution_count": 2,
      "outputs": [
        {
          "output_type": "stream",
          "name": "stdout",
          "text": [
            "['GoT', 'BB', 'EEnD']\n",
            "['Happy', 'Sad', 'Sad']\n"
          ]
        }
      ]
    }
  ]
}