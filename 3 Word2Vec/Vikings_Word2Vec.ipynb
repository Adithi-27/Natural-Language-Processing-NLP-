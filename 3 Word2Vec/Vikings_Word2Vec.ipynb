{
  "nbformat": 4,
  "nbformat_minor": 0,
  "metadata": {
    "colab": {
      "provenance": []
    },
    "kernelspec": {
      "name": "python3",
      "display_name": "Python 3"
    },
    "language_info": {
      "name": "python"
    }
  },
  "cells": [
    {
      "cell_type": "code",
      "execution_count": 30,
      "metadata": {
        "id": "T7G4dbrhrSPt"
      },
      "outputs": [],
      "source": [
        "import numpy as np\n",
        "import pandas as pd"
      ]
    },
    {
      "cell_type": "code",
      "source": [
        "!pip install gensim"
      ],
      "metadata": {
        "colab": {
          "base_uri": "https://localhost:8080/"
        },
        "id": "HcCD79Svrkph",
        "outputId": "662a39e8-7796-4ccb-bed0-29c8d17251c3"
      },
      "execution_count": 31,
      "outputs": [
        {
          "output_type": "stream",
          "name": "stdout",
          "text": [
            "Requirement already satisfied: gensim in /usr/local/lib/python3.10/dist-packages (4.3.3)\n",
            "Requirement already satisfied: numpy<2.0,>=1.18.5 in /usr/local/lib/python3.10/dist-packages (from gensim) (1.26.4)\n",
            "Requirement already satisfied: scipy<1.14.0,>=1.7.0 in /usr/local/lib/python3.10/dist-packages (from gensim) (1.13.1)\n",
            "Requirement already satisfied: smart-open>=1.8.1 in /usr/local/lib/python3.10/dist-packages (from gensim) (7.1.0)\n",
            "Requirement already satisfied: wrapt in /usr/local/lib/python3.10/dist-packages (from smart-open>=1.8.1->gensim) (1.17.0)\n"
          ]
        }
      ]
    },
    {
      "cell_type": "code",
      "source": [
        "import gensim\n",
        "import os"
      ],
      "metadata": {
        "id": "Ho9vOIjZrrCq"
      },
      "execution_count": 32,
      "outputs": []
    },
    {
      "cell_type": "code",
      "source": [
        "import nltk\n",
        "nltk.download('punkt_tab')"
      ],
      "metadata": {
        "colab": {
          "base_uri": "https://localhost:8080/"
        },
        "id": "-u8vT1zGrxO-",
        "outputId": "49bfda84-e7f3-4b98-d8b8-e6e0dd91ac70"
      },
      "execution_count": 33,
      "outputs": [
        {
          "output_type": "stream",
          "name": "stderr",
          "text": [
            "[nltk_data] Downloading package punkt_tab to /root/nltk_data...\n",
            "[nltk_data]   Package punkt_tab is already up-to-date!\n"
          ]
        },
        {
          "output_type": "execute_result",
          "data": {
            "text/plain": [
              "True"
            ]
          },
          "metadata": {},
          "execution_count": 33
        }
      ]
    },
    {
      "cell_type": "code",
      "source": [
        "from nltk import sent_tokenize\n",
        "from gensim.utils import simple_preprocess\n",
        "\n"
      ],
      "metadata": {
        "id": "sq0YZCuXr4oQ"
      },
      "execution_count": 34,
      "outputs": []
    },
    {
      "cell_type": "code",
      "source": [
        "from nltk import sent_tokenize\n",
        "from gensim.utils import simple_preprocess\n",
        "\n",
        "story = []\n",
        "data_dir = '/content/drive/MyDrive/Vikings_dataset'\n",
        "for filename in os.listdir(data_dir):\n",
        "\n",
        "    with open(os.path.join(data_dir,filename), 'r', encoding='latin-1') as f:\n",
        "        corpus = f.read()\n",
        "        raw_sent = sent_tokenize(corpus)\n",
        "        for sent in raw_sent:\n",
        "            story.append(simple_preprocess(sent))"
      ],
      "metadata": {
        "id": "IK1nrbZJsyHw"
      },
      "execution_count": 35,
      "outputs": []
    },
    {
      "cell_type": "code",
      "source": [
        "len(story)"
      ],
      "metadata": {
        "colab": {
          "base_uri": "https://localhost:8080/"
        },
        "id": "10RMAcx3tBJb",
        "outputId": "a1524930-d29d-4e8c-aeb6-f72682eb9749"
      },
      "execution_count": 36,
      "outputs": [
        {
          "output_type": "execute_result",
          "data": {
            "text/plain": [
              "36813"
            ]
          },
          "metadata": {},
          "execution_count": 36
        }
      ]
    },
    {
      "cell_type": "code",
      "source": [
        "import nltk\n",
        "nltk.download('stopwords')"
      ],
      "metadata": {
        "colab": {
          "base_uri": "https://localhost:8080/"
        },
        "id": "x0x2_qdRwLst",
        "outputId": "a53ab7f2-8824-485e-a40f-8e9644e8efce"
      },
      "execution_count": 37,
      "outputs": [
        {
          "output_type": "stream",
          "name": "stderr",
          "text": [
            "[nltk_data] Downloading package stopwords to /root/nltk_data...\n",
            "[nltk_data]   Unzipping corpora/stopwords.zip.\n"
          ]
        },
        {
          "output_type": "execute_result",
          "data": {
            "text/plain": [
              "True"
            ]
          },
          "metadata": {},
          "execution_count": 37
        }
      ]
    },
    {
      "cell_type": "code",
      "source": [
        "from nltk.corpus import stopwords\n",
        ""
      ],
      "metadata": {
        "id": "mU12fpq3wN8-"
      },
      "execution_count": 38,
      "outputs": []
    },
    {
      "cell_type": "code",
      "source": [
        "def remove_stopwords(text):\n",
        "  new_text = []\n",
        "\n",
        "  for word in text.split():\n",
        "    if word in stopwords.words('english'):\n",
        "      new_text.append('')\n",
        "    else:\n",
        "      new_text.append(word)\n",
        "  x = new_text[:]\n",
        "  new_text.clear()\n",
        "  return \" \".join(x)"
      ],
      "metadata": {
        "id": "7eLAIZ4JwRRV"
      },
      "execution_count": 39,
      "outputs": []
    },
    {
      "cell_type": "code",
      "source": [
        "model = gensim.models.Word2Vec(\n",
        "    window = 10,\n",
        "    min_count = 2,\n",
        "    workers = 4,\n",
        ")"
      ],
      "metadata": {
        "id": "My3Gc6MptEtZ"
      },
      "execution_count": 40,
      "outputs": []
    },
    {
      "cell_type": "code",
      "source": [
        "model.build_vocab(story)"
      ],
      "metadata": {
        "id": "UrOg4P8YtGoW"
      },
      "execution_count": 41,
      "outputs": []
    },
    {
      "cell_type": "code",
      "source": [
        "\n",
        "model.train(story, total_examples=model.corpus_count, epochs= model.epochs)"
      ],
      "metadata": {
        "colab": {
          "base_uri": "https://localhost:8080/"
        },
        "id": "2e9J5x2ltMb-",
        "outputId": "51777ced-5c25-486a-ae88-1bd3177d698c"
      },
      "execution_count": 42,
      "outputs": [
        {
          "output_type": "execute_result",
          "data": {
            "text/plain": [
              "(912176, 1228805)"
            ]
          },
          "metadata": {},
          "execution_count": 42
        }
      ]
    },
    {
      "cell_type": "code",
      "source": [
        "model.wv.most_similar('lagertha')"
      ],
      "metadata": {
        "colab": {
          "base_uri": "https://localhost:8080/"
        },
        "id": "9O5McWYrtRRN",
        "outputId": "c5e57129-f6b8-4526-819c-78ddb953e917"
      },
      "execution_count": 43,
      "outputs": [
        {
          "output_type": "execute_result",
          "data": {
            "text/plain": [
              "[('slave', 0.9532248973846436),\n",
              " ('gunnhild', 0.9526345133781433),\n",
              " ('hvitserk', 0.9520364999771118),\n",
              " ('knut', 0.9462131857872009),\n",
              " ('surprised', 0.9456210136413574),\n",
              " ('thyri', 0.9455723166465759),\n",
              " ('little', 0.9454625248908997),\n",
              " ('ingrid', 0.9449873566627502),\n",
              " ('crazy', 0.9447533488273621),\n",
              " ('relationship', 0.9444385766983032)]"
            ]
          },
          "metadata": {},
          "execution_count": 43
        }
      ]
    },
    {
      "cell_type": "code",
      "source": [
        "model.wv.doesnt_match(['floki','bjorn','lagertha','ubbe','rollo','ragnar'])"
      ],
      "metadata": {
        "colab": {
          "base_uri": "https://localhost:8080/",
          "height": 35
        },
        "id": "LB6mXU4FtjDu",
        "outputId": "4f176a0b-2e0c-450b-e203-66a54bade8f2"
      },
      "execution_count": 44,
      "outputs": [
        {
          "output_type": "execute_result",
          "data": {
            "text/plain": [
              "'ragnar'"
            ],
            "application/vnd.google.colaboratory.intrinsic+json": {
              "type": "string"
            }
          },
          "metadata": {},
          "execution_count": 44
        }
      ]
    },
    {
      "cell_type": "code",
      "source": [
        "model.wv.doesnt_match(['rollo','siggy','ivar','gisla'])"
      ],
      "metadata": {
        "colab": {
          "base_uri": "https://localhost:8080/",
          "height": 35
        },
        "id": "C5zIzXc-uFgl",
        "outputId": "7a9f3c50-3b57-45b3-daba-bc1331323517"
      },
      "execution_count": 45,
      "outputs": [
        {
          "output_type": "execute_result",
          "data": {
            "text/plain": [
              "'ivar'"
            ],
            "application/vnd.google.colaboratory.intrinsic+json": {
              "type": "string"
            }
          },
          "metadata": {},
          "execution_count": 45
        }
      ]
    },
    {
      "cell_type": "code",
      "source": [
        "model.wv['torvi']"
      ],
      "metadata": {
        "colab": {
          "base_uri": "https://localhost:8080/"
        },
        "id": "8ZaKcWQMuZF7",
        "outputId": "6fc68f69-0b62-4500-d520-29ab4abd5586"
      },
      "execution_count": 46,
      "outputs": [
        {
          "output_type": "execute_result",
          "data": {
            "text/plain": [
              "array([-0.10201121,  0.31924045, -0.18974723,  0.0659161 ,  0.03146727,\n",
              "       -0.3669623 , -0.04719763,  0.7822847 , -0.30704287, -0.12563837,\n",
              "        0.14129254, -0.5725569 ,  0.1404191 ,  0.28535157, -0.271797  ,\n",
              "       -0.04018237,  0.27113712, -0.36168128, -0.09782603, -0.61749405,\n",
              "        0.32431123, -0.1848095 ,  0.32883248, -0.26221204, -0.13281365,\n",
              "       -0.01808845, -0.18308018, -0.16533634, -0.45731547, -0.10831708,\n",
              "        0.18479724, -0.07596492,  0.33124545, -0.4803012 ,  0.01760335,\n",
              "        0.43365756, -0.12810794, -0.37603697, -0.29601336, -0.60790426,\n",
              "        0.04894984, -0.1807101 ,  0.07158344,  0.13848926,  0.45081902,\n",
              "       -0.20516495, -0.4107213 , -0.07836969,  0.19001316,  0.37671527,\n",
              "        0.1776906 , -0.14848661, -0.2730243 , -0.07295164, -0.11723017,\n",
              "        0.24029003,  0.37954733,  0.1862298 , -0.40395692, -0.0022432 ,\n",
              "        0.08661162,  0.0494508 , -0.1442827 , -0.0476561 , -0.4434987 ,\n",
              "        0.08846669,  0.12668635,  0.23741192, -0.05006896,  0.43452364,\n",
              "       -0.21138088, -0.02466685,  0.40365526,  0.11585663,  0.3250069 ,\n",
              "        0.16004403, -0.03487196,  0.0169019 , -0.34686938, -0.04048073,\n",
              "       -0.14076065, -0.02702065, -0.10109547,  0.34409422, -0.29231888,\n",
              "       -0.1544954 ,  0.19260006,  0.30553403,  0.19365163,  0.19482876,\n",
              "        0.5886735 ,  0.28426108, -0.12939392, -0.10805748,  0.41122654,\n",
              "        0.32091197,  0.22759894, -0.4492234 ,  0.16432859,  0.21125191],\n",
              "      dtype=float32)"
            ]
          },
          "metadata": {},
          "execution_count": 46
        }
      ]
    },
    {
      "cell_type": "code",
      "source": [
        "model.wv.similarity('floki','freydis')"
      ],
      "metadata": {
        "colab": {
          "base_uri": "https://localhost:8080/"
        },
        "id": "aJAsUlyaugkO",
        "outputId": "62e3576e-01bc-4fb0-a128-c30d946bff74"
      },
      "execution_count": 47,
      "outputs": [
        {
          "output_type": "execute_result",
          "data": {
            "text/plain": [
              "0.9025059"
            ]
          },
          "metadata": {},
          "execution_count": 47
        }
      ]
    },
    {
      "cell_type": "code",
      "source": [
        "model.wv.similarity('floki','athelstan')"
      ],
      "metadata": {
        "colab": {
          "base_uri": "https://localhost:8080/"
        },
        "id": "Jgf5Ind5u00a",
        "outputId": "8e28fe63-13e5-4da6-b41d-e40e418fb35f"
      },
      "execution_count": 48,
      "outputs": [
        {
          "output_type": "execute_result",
          "data": {
            "text/plain": [
              "0.7091468"
            ]
          },
          "metadata": {},
          "execution_count": 48
        }
      ]
    },
    {
      "cell_type": "code",
      "source": [
        "model.wv.similarity('athelstan','ivar')"
      ],
      "metadata": {
        "colab": {
          "base_uri": "https://localhost:8080/"
        },
        "id": "Y5oHwttFu97d",
        "outputId": "98e60f61-bb74-4f24-bee3-2a4cfd870229"
      },
      "execution_count": 49,
      "outputs": [
        {
          "output_type": "execute_result",
          "data": {
            "text/plain": [
              "0.75103205"
            ]
          },
          "metadata": {},
          "execution_count": 49
        }
      ]
    },
    {
      "cell_type": "code",
      "source": [
        "model.wv.get_normed_vectors()"
      ],
      "metadata": {
        "colab": {
          "base_uri": "https://localhost:8080/"
        },
        "id": "80jkeTOHvG1h",
        "outputId": "4332f076-727c-490a-9ff6-6c74b90db35f"
      },
      "execution_count": 50,
      "outputs": [
        {
          "output_type": "execute_result",
          "data": {
            "text/plain": [
              "array([[ 0.01717634,  0.10902523, -0.04515543, ..., -0.05543157,\n",
              "         0.07072131,  0.01268937],\n",
              "       [-0.00348817,  0.16717064,  0.04760403, ...,  0.03165702,\n",
              "        -0.10637622,  0.06071694],\n",
              "       [-0.00101377,  0.13484871, -0.08670074, ..., -0.09416754,\n",
              "         0.17585374, -0.08566185],\n",
              "       ...,\n",
              "       [ 0.02090099,  0.04890468, -0.03437077, ..., -0.09633443,\n",
              "         0.10148911,  0.03542276],\n",
              "       [ 0.059617  ,  0.08516251, -0.07689856, ...,  0.05368286,\n",
              "         0.0590589 , -0.13044761],\n",
              "       [-0.15419088,  0.01404886, -0.06376781, ..., -0.06398148,\n",
              "         0.01857273,  0.02640606]], dtype=float32)"
            ]
          },
          "metadata": {},
          "execution_count": 50
        }
      ]
    },
    {
      "cell_type": "code",
      "source": [
        "y = model.wv.index_to_key"
      ],
      "metadata": {
        "id": "iT8foqBnvLvp"
      },
      "execution_count": 51,
      "outputs": []
    },
    {
      "cell_type": "code",
      "source": [
        "len(y)"
      ],
      "metadata": {
        "colab": {
          "base_uri": "https://localhost:8080/"
        },
        "id": "FC_GfXdxvNUH",
        "outputId": "ab2c2f42-71c3-41d3-ed75-4a602f47660a"
      },
      "execution_count": 52,
      "outputs": [
        {
          "output_type": "execute_result",
          "data": {
            "text/plain": [
              "5335"
            ]
          },
          "metadata": {},
          "execution_count": 52
        }
      ]
    },
    {
      "cell_type": "code",
      "source": [
        "from sklearn.decomposition import PCA"
      ],
      "metadata": {
        "id": "-MsVFJE3vTRU"
      },
      "execution_count": 53,
      "outputs": []
    },
    {
      "cell_type": "code",
      "source": [
        "pca = PCA(n_components = 3)"
      ],
      "metadata": {
        "id": "DO6YsQRQvW0j"
      },
      "execution_count": 54,
      "outputs": []
    },
    {
      "cell_type": "code",
      "source": [
        "x = pca.fit_transform(model.wv.get_normed_vectors())"
      ],
      "metadata": {
        "id": "JjaHhaoDvaOE"
      },
      "execution_count": 55,
      "outputs": []
    },
    {
      "cell_type": "code",
      "source": [
        "x.shape"
      ],
      "metadata": {
        "colab": {
          "base_uri": "https://localhost:8080/"
        },
        "id": "PhuL_U_9vmO0",
        "outputId": "b9c47a07-c962-46fd-e2ac-635eb920f815"
      },
      "execution_count": 56,
      "outputs": [
        {
          "output_type": "execute_result",
          "data": {
            "text/plain": [
              "(5335, 3)"
            ]
          },
          "metadata": {},
          "execution_count": 56
        }
      ]
    },
    {
      "cell_type": "code",
      "source": [
        "import plotly.express as px\n",
        "fig = px.scatter_3d(x[200:300],x=0,y=1,z=2, color=y[200:300])\n",
        "fig.show()"
      ],
      "metadata": {
        "colab": {
          "base_uri": "https://localhost:8080/",
          "height": 542
        },
        "id": "EB2vWzngvpef",
        "outputId": "f72b2e8c-6ed6-4d12-b104-48a35f8c35f7"
      },
      "execution_count": 57,
      "outputs": [
        {
          "output_type": "display_data",
          "data": {
            "text/html": [
              "<html>\n",
              "<head><meta charset=\"utf-8\" /></head>\n",
              "<body>\n",
              "    <div>            <script src=\"https://cdnjs.cloudflare.com/ajax/libs/mathjax/2.7.5/MathJax.js?config=TeX-AMS-MML_SVG\"></script><script type=\"text/javascript\">if (window.MathJax && window.MathJax.Hub && window.MathJax.Hub.Config) {window.MathJax.Hub.Config({SVG: {font: \"STIX-Web\"}});}</script>                <script type=\"text/javascript\">window.PlotlyConfig = {MathJaxConfig: 'local'};</script>\n",
              "        <script charset=\"utf-8\" src=\"https://cdn.plot.ly/plotly-2.35.2.min.js\"></script>                <div id=\"5b4d6e35-0a2c-434c-8bdd-bbae981c8ea1\" class=\"plotly-graph-div\" style=\"height:525px; width:100%;\"></div>            <script type=\"text/javascript\">                                    window.PLOTLYENV=window.PLOTLYENV || {};                                    if (document.getElementById(\"5b4d6e35-0a2c-434c-8bdd-bbae981c8ea1\")) {                    Plotly.newPlot(                        \"5b4d6e35-0a2c-434c-8bdd-bbae981c8ea1\",                        [{\"hovertemplate\":\"color=new\\u003cbr\\u003e0=%{x}\\u003cbr\\u003e1=%{y}\\u003cbr\\u003e2=%{z}\\u003cextra\\u003e\\u003c\\u002fextra\\u003e\",\"legendgroup\":\"new\",\"marker\":{\"color\":\"#636efa\",\"symbol\":\"circle\"},\"mode\":\"markers\",\"name\":\"new\",\"scene\":\"scene\",\"showlegend\":true,\"x\":[0.1789328],\"y\":[0.4866432],\"z\":[0.009838283],\"type\":\"scatter3d\"},{\"hovertemplate\":\"color=sure\\u003cbr\\u003e0=%{x}\\u003cbr\\u003e1=%{y}\\u003cbr\\u003e2=%{z}\\u003cextra\\u003e\\u003c\\u002fextra\\u003e\",\"legendgroup\":\"sure\",\"marker\":{\"color\":\"#EF553B\",\"symbol\":\"circle\"},\"mode\":\"markers\",\"name\":\"sure\",\"scene\":\"scene\",\"showlegend\":true,\"x\":[0.53641653],\"y\":[-0.12688111],\"z\":[0.040217996],\"type\":\"scatter3d\"},{\"hovertemplate\":\"color=death\\u003cbr\\u003e0=%{x}\\u003cbr\\u003e1=%{y}\\u003cbr\\u003e2=%{z}\\u003cextra\\u003e\\u003c\\u002fextra\\u003e\",\"legendgroup\":\"death\",\"marker\":{\"color\":\"#00cc96\",\"symbol\":\"circle\"},\"mode\":\"markers\",\"name\":\"death\",\"scene\":\"scene\",\"showlegend\":true,\"x\":[0.32997978],\"y\":[0.4077482],\"z\":[-0.09256405],\"type\":\"scatter3d\"},{\"hovertemplate\":\"color=gasps\\u003cbr\\u003e0=%{x}\\u003cbr\\u003e1=%{y}\\u003cbr\\u003e2=%{z}\\u003cextra\\u003e\\u003c\\u002fextra\\u003e\",\"legendgroup\":\"gasps\",\"marker\":{\"color\":\"#ab63fa\",\"symbol\":\"circle\"},\"mode\":\"markers\",\"name\":\"gasps\",\"scene\":\"scene\",\"showlegend\":true,\"x\":[-0.62308615],\"y\":[-0.16506422],\"z\":[-0.13698226],\"type\":\"scatter3d\"},{\"hovertemplate\":\"color=something\\u003cbr\\u003e0=%{x}\\u003cbr\\u003e1=%{y}\\u003cbr\\u003e2=%{z}\\u003cextra\\u003e\\u003c\\u002fextra\\u003e\",\"legendgroup\":\"something\",\"marker\":{\"color\":\"#FFA15A\",\"symbol\":\"circle\"},\"mode\":\"markers\",\"name\":\"something\",\"scene\":\"scene\",\"showlegend\":true,\"x\":[0.5711123],\"y\":[-0.3565253],\"z\":[-0.10680777],\"type\":\"scatter3d\"},{\"hovertemplate\":\"color=thank\\u003cbr\\u003e0=%{x}\\u003cbr\\u003e1=%{y}\\u003cbr\\u003e2=%{z}\\u003cextra\\u003e\\u003c\\u002fextra\\u003e\",\"legendgroup\":\"thank\",\"marker\":{\"color\":\"#19d3f3\",\"symbol\":\"circle\"},\"mode\":\"markers\",\"name\":\"thank\",\"scene\":\"scene\",\"showlegend\":true,\"x\":[0.07300249],\"y\":[-0.09810893],\"z\":[0.09807086],\"type\":\"scatter3d\"},{\"hovertemplate\":\"color=warrior\\u003cbr\\u003e0=%{x}\\u003cbr\\u003e1=%{y}\\u003cbr\\u003e2=%{z}\\u003cextra\\u003e\\u003c\\u002fextra\\u003e\",\"legendgroup\":\"warrior\",\"marker\":{\"color\":\"#FF6692\",\"symbol\":\"circle\"},\"mode\":\"markers\",\"name\":\"warrior\",\"scene\":\"scene\",\"showlegend\":true,\"x\":[-0.45519418],\"y\":[0.11687121],\"z\":[-0.06397611],\"type\":\"scatter3d\"},{\"hovertemplate\":\"color=into\\u003cbr\\u003e0=%{x}\\u003cbr\\u003e1=%{y}\\u003cbr\\u003e2=%{z}\\u003cextra\\u003e\\u003c\\u002fextra\\u003e\",\"legendgroup\":\"into\",\"marker\":{\"color\":\"#B6E880\",\"symbol\":\"circle\"},\"mode\":\"markers\",\"name\":\"into\",\"scene\":\"scene\",\"showlegend\":true,\"x\":[-0.008851737],\"y\":[0.25704172],\"z\":[0.005716741],\"type\":\"scatter3d\"},{\"hovertemplate\":\"color=made\\u003cbr\\u003e0=%{x}\\u003cbr\\u003e1=%{y}\\u003cbr\\u003e2=%{z}\\u003cextra\\u003e\\u003c\\u002fextra\\u003e\",\"legendgroup\":\"made\",\"marker\":{\"color\":\"#FF97FF\",\"symbol\":\"circle\"},\"mode\":\"markers\",\"name\":\"made\",\"scene\":\"scene\",\"showlegend\":true,\"x\":[0.46156222],\"y\":[-0.034457654],\"z\":[-0.070513785],\"type\":\"scatter3d\"},{\"hovertemplate\":\"color=wife\\u003cbr\\u003e0=%{x}\\u003cbr\\u003e1=%{y}\\u003cbr\\u003e2=%{z}\\u003cextra\\u003e\\u003c\\u002fextra\\u003e\",\"legendgroup\":\"wife\",\"marker\":{\"color\":\"#FECB52\",\"symbol\":\"circle\"},\"mode\":\"markers\",\"name\":\"wife\",\"scene\":\"scene\",\"showlegend\":true,\"x\":[0.34707123],\"y\":[0.21545473],\"z\":[-0.09787464],\"type\":\"scatter3d\"},{\"hovertemplate\":\"color=yelling\\u003cbr\\u003e0=%{x}\\u003cbr\\u003e1=%{y}\\u003cbr\\u003e2=%{z}\\u003cextra\\u003e\\u003c\\u002fextra\\u003e\",\"legendgroup\":\"yelling\",\"marker\":{\"color\":\"#636efa\",\"symbol\":\"circle\"},\"mode\":\"markers\",\"name\":\"yelling\",\"scene\":\"scene\",\"showlegend\":true,\"x\":[-0.6432267],\"y\":[-0.1427584],\"z\":[-0.18975788],\"type\":\"scatter3d\"},{\"hovertemplate\":\"color=horik\\u003cbr\\u003e0=%{x}\\u003cbr\\u003e1=%{y}\\u003cbr\\u003e2=%{z}\\u003cextra\\u003e\\u003c\\u002fextra\\u003e\",\"legendgroup\":\"horik\",\"marker\":{\"color\":\"#EF553B\",\"symbol\":\"circle\"},\"mode\":\"markers\",\"name\":\"horik\",\"scene\":\"scene\",\"showlegend\":true,\"x\":[-0.0661408],\"y\":[0.24619795],\"z\":[0.058760643],\"type\":\"scatter3d\"},{\"hovertemplate\":\"color=things\\u003cbr\\u003e0=%{x}\\u003cbr\\u003e1=%{y}\\u003cbr\\u003e2=%{z}\\u003cextra\\u003e\\u003c\\u002fextra\\u003e\",\"legendgroup\":\"things\",\"marker\":{\"color\":\"#00cc96\",\"symbol\":\"circle\"},\"mode\":\"markers\",\"name\":\"things\",\"scene\":\"scene\",\"showlegend\":true,\"x\":[0.51437736],\"y\":[-0.10207099],\"z\":[0.0052577853],\"type\":\"scatter3d\"},{\"hovertemplate\":\"color=tongue\\u003cbr\\u003e0=%{x}\\u003cbr\\u003e1=%{y}\\u003cbr\\u003e2=%{z}\\u003cextra\\u003e\\u003c\\u002fextra\\u003e\",\"legendgroup\":\"tongue\",\"marker\":{\"color\":\"#ab63fa\",\"symbol\":\"circle\"},\"mode\":\"markers\",\"name\":\"tongue\",\"scene\":\"scene\",\"showlegend\":true,\"x\":[-0.49937963],\"y\":[0.03388005],\"z\":[-0.24408841],\"type\":\"scatter3d\"},{\"hovertemplate\":\"color=cheering\\u003cbr\\u003e0=%{x}\\u003cbr\\u003e1=%{y}\\u003cbr\\u003e2=%{z}\\u003cextra\\u003e\\u003c\\u002fextra\\u003e\",\"legendgroup\":\"cheering\",\"marker\":{\"color\":\"#FFA15A\",\"symbol\":\"circle\"},\"mode\":\"markers\",\"name\":\"cheering\",\"scene\":\"scene\",\"showlegend\":true,\"x\":[-0.65836734],\"y\":[0.041115675],\"z\":[-0.17735004],\"type\":\"scatter3d\"},{\"hovertemplate\":\"color=before\\u003cbr\\u003e0=%{x}\\u003cbr\\u003e1=%{y}\\u003cbr\\u003e2=%{z}\\u003cextra\\u003e\\u003c\\u002fextra\\u003e\",\"legendgroup\":\"before\",\"marker\":{\"color\":\"#19d3f3\",\"symbol\":\"circle\"},\"mode\":\"markers\",\"name\":\"before\",\"scene\":\"scene\",\"showlegend\":true,\"x\":[0.38108382],\"y\":[0.049036678],\"z\":[0.019717515],\"type\":\"scatter3d\"},{\"hovertemplate\":\"color=vikings\\u003cbr\\u003e0=%{x}\\u003cbr\\u003e1=%{y}\\u003cbr\\u003e2=%{z}\\u003cextra\\u003e\\u003c\\u002fextra\\u003e\",\"legendgroup\":\"vikings\",\"marker\":{\"color\":\"#FF6692\",\"symbol\":\"circle\"},\"mode\":\"markers\",\"name\":\"vikings\",\"scene\":\"scene\",\"showlegend\":true,\"x\":[-0.2059707],\"y\":[0.03384176],\"z\":[0.05583483],\"type\":\"scatter3d\"},{\"hovertemplate\":\"color=window\\u003cbr\\u003e0=%{x}\\u003cbr\\u003e1=%{y}\\u003cbr\\u003e2=%{z}\\u003cextra\\u003e\\u003c\\u002fextra\\u003e\",\"legendgroup\":\"window\",\"marker\":{\"color\":\"#B6E880\",\"symbol\":\"circle\"},\"mode\":\"markers\",\"name\":\"window\",\"scene\":\"scene\",\"showlegend\":true,\"x\":[-0.29285502],\"y\":[-0.17168725],\"z\":[-0.18818551],\"type\":\"scatter3d\"},{\"hovertemplate\":\"color=old\\u003cbr\\u003e0=%{x}\\u003cbr\\u003e1=%{y}\\u003cbr\\u003e2=%{z}\\u003cextra\\u003e\\u003c\\u002fextra\\u003e\",\"legendgroup\":\"old\",\"marker\":{\"color\":\"#FF97FF\",\"symbol\":\"circle\"},\"mode\":\"markers\",\"name\":\"old\",\"scene\":\"scene\",\"showlegend\":true,\"x\":[-0.5029487],\"y\":[0.060298275],\"z\":[-0.15768534],\"type\":\"scatter3d\"},{\"hovertemplate\":\"color=world\\u003cbr\\u003e0=%{x}\\u003cbr\\u003e1=%{y}\\u003cbr\\u003e2=%{z}\\u003cextra\\u003e\\u003c\\u002fextra\\u003e\",\"legendgroup\":\"world\",\"marker\":{\"color\":\"#FECB52\",\"symbol\":\"circle\"},\"mode\":\"markers\",\"name\":\"world\",\"scene\":\"scene\",\"showlegend\":true,\"x\":[0.31317455],\"y\":[0.4741915],\"z\":[-0.11048895],\"type\":\"scatter3d\"},{\"hovertemplate\":\"color=day\\u003cbr\\u003e0=%{x}\\u003cbr\\u003e1=%{y}\\u003cbr\\u003e2=%{z}\\u003cextra\\u003e\\u003c\\u002fextra\\u003e\",\"legendgroup\":\"day\",\"marker\":{\"color\":\"#636efa\",\"symbol\":\"circle\"},\"mode\":\"markers\",\"name\":\"day\",\"scene\":\"scene\",\"showlegend\":true,\"x\":[0.4481591],\"y\":[0.15498322],\"z\":[-0.19252318],\"type\":\"scatter3d\"},{\"hovertemplate\":\"color=army\\u003cbr\\u003e0=%{x}\\u003cbr\\u003e1=%{y}\\u003cbr\\u003e2=%{z}\\u003cextra\\u003e\\u003c\\u002fextra\\u003e\",\"legendgroup\":\"army\",\"marker\":{\"color\":\"#EF553B\",\"symbol\":\"circle\"},\"mode\":\"markers\",\"name\":\"army\",\"scene\":\"scene\",\"showlegend\":true,\"x\":[0.21471386],\"y\":[0.44997612],\"z\":[-0.04747671],\"type\":\"scatter3d\"},{\"hovertemplate\":\"color=continues\\u003cbr\\u003e0=%{x}\\u003cbr\\u003e1=%{y}\\u003cbr\\u003e2=%{z}\\u003cextra\\u003e\\u003c\\u002fextra\\u003e\",\"legendgroup\":\"continues\",\"marker\":{\"color\":\"#00cc96\",\"symbol\":\"circle\"},\"mode\":\"markers\",\"name\":\"continues\",\"scene\":\"scene\",\"showlegend\":true,\"x\":[-0.62239784],\"y\":[-0.25445324],\"z\":[-0.19919741],\"type\":\"scatter3d\"},{\"hovertemplate\":\"color=down\\u003cbr\\u003e0=%{x}\\u003cbr\\u003e1=%{y}\\u003cbr\\u003e2=%{z}\\u003cextra\\u003e\\u003c\\u002fextra\\u003e\",\"legendgroup\":\"down\",\"marker\":{\"color\":\"#ab63fa\",\"symbol\":\"circle\"},\"mode\":\"markers\",\"name\":\"down\",\"scene\":\"scene\",\"showlegend\":true,\"x\":[-0.26400352],\"y\":[-0.015044401],\"z\":[0.04938358],\"type\":\"scatter3d\"},{\"hovertemplate\":\"color=hail\\u003cbr\\u003e0=%{x}\\u003cbr\\u003e1=%{y}\\u003cbr\\u003e2=%{z}\\u003cextra\\u003e\\u003c\\u002fextra\\u003e\",\"legendgroup\":\"hail\",\"marker\":{\"color\":\"#FFA15A\",\"symbol\":\"circle\"},\"mode\":\"markers\",\"name\":\"hail\",\"scene\":\"scene\",\"showlegend\":true,\"x\":[-0.28791732],\"y\":[0.23812182],\"z\":[0.066232204],\"type\":\"scatter3d\"},{\"hovertemplate\":\"color=place\\u003cbr\\u003e0=%{x}\\u003cbr\\u003e1=%{y}\\u003cbr\\u003e2=%{z}\\u003cextra\\u003e\\u003c\\u002fextra\\u003e\",\"legendgroup\":\"place\",\"marker\":{\"color\":\"#19d3f3\",\"symbol\":\"circle\"},\"mode\":\"markers\",\"name\":\"place\",\"scene\":\"scene\",\"showlegend\":true,\"x\":[0.2502103],\"y\":[0.29673722],\"z\":[-0.056123853],\"type\":\"scatter3d\"},{\"hovertemplate\":\"color=live\\u003cbr\\u003e0=%{x}\\u003cbr\\u003e1=%{y}\\u003cbr\\u003e2=%{z}\\u003cextra\\u003e\\u003c\\u002fextra\\u003e\",\"legendgroup\":\"live\",\"marker\":{\"color\":\"#FF6692\",\"symbol\":\"circle\"},\"mode\":\"markers\",\"name\":\"live\",\"scene\":\"scene\",\"showlegend\":true,\"x\":[0.33440495],\"y\":[0.18612641],\"z\":[0.08640945],\"type\":\"scatter3d\"},{\"hovertemplate\":\"color=both\\u003cbr\\u003e0=%{x}\\u003cbr\\u003e1=%{y}\\u003cbr\\u003e2=%{z}\\u003cextra\\u003e\\u003c\\u002fextra\\u003e\",\"legendgroup\":\"both\",\"marker\":{\"color\":\"#B6E880\",\"symbol\":\"circle\"},\"mode\":\"markers\",\"name\":\"both\",\"scene\":\"scene\",\"showlegend\":true,\"x\":[-0.069952905],\"y\":[-0.019224385],\"z\":[0.08993602],\"type\":\"scatter3d\"},{\"hovertemplate\":\"color=exhales\\u003cbr\\u003e0=%{x}\\u003cbr\\u003e1=%{y}\\u003cbr\\u003e2=%{z}\\u003cextra\\u003e\\u003c\\u002fextra\\u003e\",\"legendgroup\":\"exhales\",\"marker\":{\"color\":\"#FF97FF\",\"symbol\":\"circle\"},\"mode\":\"markers\",\"name\":\"exhales\",\"scene\":\"scene\",\"showlegend\":true,\"x\":[-0.5828911],\"y\":[-0.29122397],\"z\":[-0.13108009],\"type\":\"scatter3d\"},{\"hovertemplate\":\"color=ask\\u003cbr\\u003e0=%{x}\\u003cbr\\u003e1=%{y}\\u003cbr\\u003e2=%{z}\\u003cextra\\u003e\\u003c\\u002fextra\\u003e\",\"legendgroup\":\"ask\",\"marker\":{\"color\":\"#FECB52\",\"symbol\":\"circle\"},\"mode\":\"markers\",\"name\":\"ask\",\"scene\":\"scene\",\"showlegend\":true,\"x\":[0.63710177],\"y\":[-0.24196504],\"z\":[-0.04848671],\"type\":\"scatter3d\"},{\"hovertemplate\":\"color=horse\\u003cbr\\u003e0=%{x}\\u003cbr\\u003e1=%{y}\\u003cbr\\u003e2=%{z}\\u003cextra\\u003e\\u003c\\u002fextra\\u003e\",\"legendgroup\":\"horse\",\"marker\":{\"color\":\"#636efa\",\"symbol\":\"circle\"},\"mode\":\"markers\",\"name\":\"horse\",\"scene\":\"scene\",\"showlegend\":true,\"x\":[-0.66454095],\"y\":[-0.12065199],\"z\":[-0.1729238],\"type\":\"scatter3d\"},{\"hovertemplate\":\"color=native\\u003cbr\\u003e0=%{x}\\u003cbr\\u003e1=%{y}\\u003cbr\\u003e2=%{z}\\u003cextra\\u003e\\u003c\\u002fextra\\u003e\",\"legendgroup\":\"native\",\"marker\":{\"color\":\"#EF553B\",\"symbol\":\"circle\"},\"mode\":\"markers\",\"name\":\"native\",\"scene\":\"scene\",\"showlegend\":true,\"x\":[-0.494452],\"y\":[0.0077016465],\"z\":[-0.24876118],\"type\":\"scatter3d\"},{\"hovertemplate\":\"color=over\\u003cbr\\u003e0=%{x}\\u003cbr\\u003e1=%{y}\\u003cbr\\u003e2=%{z}\\u003cextra\\u003e\\u003c\\u002fextra\\u003e\",\"legendgroup\":\"over\",\"marker\":{\"color\":\"#00cc96\",\"symbol\":\"circle\"},\"mode\":\"markers\",\"name\":\"over\",\"scene\":\"scene\",\"showlegend\":true,\"x\":[0.092608616],\"y\":[0.19079816],\"z\":[0.03524846],\"type\":\"scatter3d\"},{\"hovertemplate\":\"color=enough\\u003cbr\\u003e0=%{x}\\u003cbr\\u003e1=%{y}\\u003cbr\\u003e2=%{z}\\u003cextra\\u003e\\u003c\\u002fextra\\u003e\",\"legendgroup\":\"enough\",\"marker\":{\"color\":\"#ab63fa\",\"symbol\":\"circle\"},\"mode\":\"markers\",\"name\":\"enough\",\"scene\":\"scene\",\"showlegend\":true,\"x\":[0.40149835],\"y\":[-0.07498352],\"z\":[0.06848633],\"type\":\"scatter3d\"},{\"hovertemplate\":\"color=does\\u003cbr\\u003e0=%{x}\\u003cbr\\u003e1=%{y}\\u003cbr\\u003e2=%{z}\\u003cextra\\u003e\\u003c\\u002fextra\\u003e\",\"legendgroup\":\"does\",\"marker\":{\"color\":\"#FFA15A\",\"symbol\":\"circle\"},\"mode\":\"markers\",\"name\":\"does\",\"scene\":\"scene\",\"showlegend\":true,\"x\":[0.45028707],\"y\":[-0.21709836],\"z\":[-0.031294763],\"type\":\"scatter3d\"},{\"hovertemplate\":\"color=such\\u003cbr\\u003e0=%{x}\\u003cbr\\u003e1=%{y}\\u003cbr\\u003e2=%{z}\\u003cextra\\u003e\\u003c\\u002fextra\\u003e\",\"legendgroup\":\"such\",\"marker\":{\"color\":\"#19d3f3\",\"symbol\":\"circle\"},\"mode\":\"markers\",\"name\":\"such\",\"scene\":\"scene\",\"showlegend\":true,\"x\":[0.36509615],\"y\":[-0.09033209],\"z\":[0.0052630305],\"type\":\"scatter3d\"},{\"hovertemplate\":\"color=alfred\\u003cbr\\u003e0=%{x}\\u003cbr\\u003e1=%{y}\\u003cbr\\u003e2=%{z}\\u003cextra\\u003e\\u003c\\u002fextra\\u003e\",\"legendgroup\":\"alfred\",\"marker\":{\"color\":\"#FF6692\",\"symbol\":\"circle\"},\"mode\":\"markers\",\"name\":\"alfred\",\"scene\":\"scene\",\"showlegend\":true,\"x\":[-0.058140576],\"y\":[0.09833279],\"z\":[0.11656022],\"type\":\"scatter3d\"},{\"hovertemplate\":\"color=talk\\u003cbr\\u003e0=%{x}\\u003cbr\\u003e1=%{y}\\u003cbr\\u003e2=%{z}\\u003cextra\\u003e\\u003c\\u002fextra\\u003e\",\"legendgroup\":\"talk\",\"marker\":{\"color\":\"#B6E880\",\"symbol\":\"circle\"},\"mode\":\"markers\",\"name\":\"talk\",\"scene\":\"scene\",\"showlegend\":true,\"x\":[0.54989743],\"y\":[-0.28355363],\"z\":[0.010960281],\"type\":\"scatter3d\"},{\"hovertemplate\":\"color=also\\u003cbr\\u003e0=%{x}\\u003cbr\\u003e1=%{y}\\u003cbr\\u003e2=%{z}\\u003cextra\\u003e\\u003c\\u002fextra\\u003e\",\"legendgroup\":\"also\",\"marker\":{\"color\":\"#FF97FF\",\"symbol\":\"circle\"},\"mode\":\"markers\",\"name\":\"also\",\"scene\":\"scene\",\"showlegend\":true,\"x\":[0.46487686],\"y\":[0.12673178],\"z\":[0.019524693],\"type\":\"scatter3d\"},{\"hovertemplate\":\"color=queen\\u003cbr\\u003e0=%{x}\\u003cbr\\u003e1=%{y}\\u003cbr\\u003e2=%{z}\\u003cextra\\u003e\\u003c\\u002fextra\\u003e\",\"legendgroup\":\"queen\",\"marker\":{\"color\":\"#FECB52\",\"symbol\":\"circle\"},\"mode\":\"markers\",\"name\":\"queen\",\"scene\":\"scene\",\"showlegend\":true,\"x\":[0.3068602],\"y\":[0.20121376],\"z\":[0.04998237],\"type\":\"scatter3d\"},{\"hovertemplate\":\"color=sons\\u003cbr\\u003e0=%{x}\\u003cbr\\u003e1=%{y}\\u003cbr\\u003e2=%{z}\\u003cextra\\u003e\\u003c\\u002fextra\\u003e\",\"legendgroup\":\"sons\",\"marker\":{\"color\":\"#636efa\",\"symbol\":\"circle\"},\"mode\":\"markers\",\"name\":\"sons\",\"scene\":\"scene\",\"showlegend\":true,\"x\":[0.3924941],\"y\":[0.4251125],\"z\":[-0.12742722],\"type\":\"scatter3d\"},{\"hovertemplate\":\"color=trust\\u003cbr\\u003e0=%{x}\\u003cbr\\u003e1=%{y}\\u003cbr\\u003e2=%{z}\\u003cextra\\u003e\\u003c\\u002fextra\\u003e\",\"legendgroup\":\"trust\",\"marker\":{\"color\":\"#EF553B\",\"symbol\":\"circle\"},\"mode\":\"markers\",\"name\":\"trust\",\"scene\":\"scene\",\"showlegend\":true,\"x\":[0.54081225],\"y\":[-0.32362318],\"z\":[-0.017876804],\"type\":\"scatter3d\"},{\"hovertemplate\":\"color=together\\u003cbr\\u003e0=%{x}\\u003cbr\\u003e1=%{y}\\u003cbr\\u003e2=%{z}\\u003cextra\\u003e\\u003c\\u002fextra\\u003e\",\"legendgroup\":\"together\",\"marker\":{\"color\":\"#00cc96\",\"symbol\":\"circle\"},\"mode\":\"markers\",\"name\":\"together\",\"scene\":\"scene\",\"showlegend\":true,\"x\":[0.38677198],\"y\":[0.02599357],\"z\":[0.010262966],\"type\":\"scatter3d\"},{\"hovertemplate\":\"color=groans\\u003cbr\\u003e0=%{x}\\u003cbr\\u003e1=%{y}\\u003cbr\\u003e2=%{z}\\u003cextra\\u003e\\u003c\\u002fextra\\u003e\",\"legendgroup\":\"groans\",\"marker\":{\"color\":\"#ab63fa\",\"symbol\":\"circle\"},\"mode\":\"markers\",\"name\":\"groans\",\"scene\":\"scene\",\"showlegend\":true,\"x\":[-0.60132617],\"y\":[-0.16899759],\"z\":[-0.09316343],\"type\":\"scatter3d\"},{\"hovertemplate\":\"color=said\\u003cbr\\u003e0=%{x}\\u003cbr\\u003e1=%{y}\\u003cbr\\u003e2=%{z}\\u003cextra\\u003e\\u003c\\u002fextra\\u003e\",\"legendgroup\":\"said\",\"marker\":{\"color\":\"#FFA15A\",\"symbol\":\"circle\"},\"mode\":\"markers\",\"name\":\"said\",\"scene\":\"scene\",\"showlegend\":true,\"x\":[0.4818685],\"y\":[-0.20332906],\"z\":[-0.08574927],\"type\":\"scatter3d\"},{\"hovertemplate\":\"color=panting\\u003cbr\\u003e0=%{x}\\u003cbr\\u003e1=%{y}\\u003cbr\\u003e2=%{z}\\u003cextra\\u003e\\u003c\\u002fextra\\u003e\",\"legendgroup\":\"panting\",\"marker\":{\"color\":\"#19d3f3\",\"symbol\":\"circle\"},\"mode\":\"markers\",\"name\":\"panting\",\"scene\":\"scene\",\"showlegend\":true,\"x\":[-0.5989654],\"y\":[-0.2178969],\"z\":[-0.12291992],\"type\":\"scatter3d\"},{\"hovertemplate\":\"color=those\\u003cbr\\u003e0=%{x}\\u003cbr\\u003e1=%{y}\\u003cbr\\u003e2=%{z}\\u003cextra\\u003e\\u003c\\u002fextra\\u003e\",\"legendgroup\":\"those\",\"marker\":{\"color\":\"#FF6692\",\"symbol\":\"circle\"},\"mode\":\"markers\",\"name\":\"those\",\"scene\":\"scene\",\"showlegend\":true,\"x\":[0.25242478],\"y\":[0.047354434],\"z\":[0.07732493],\"type\":\"scatter3d\"},{\"hovertemplate\":\"color=warriors\\u003cbr\\u003e0=%{x}\\u003cbr\\u003e1=%{y}\\u003cbr\\u003e2=%{z}\\u003cextra\\u003e\\u003c\\u002fextra\\u003e\",\"legendgroup\":\"warriors\",\"marker\":{\"color\":\"#B6E880\",\"symbol\":\"circle\"},\"mode\":\"markers\",\"name\":\"warriors\",\"scene\":\"scene\",\"showlegend\":true,\"x\":[-0.31156412],\"y\":[0.2043469],\"z\":[-0.04920149],\"type\":\"scatter3d\"},{\"hovertemplate\":\"color=saxon\\u003cbr\\u003e0=%{x}\\u003cbr\\u003e1=%{y}\\u003cbr\\u003e2=%{z}\\u003cextra\\u003e\\u003c\\u002fextra\\u003e\",\"legendgroup\":\"saxon\",\"marker\":{\"color\":\"#FF97FF\",\"symbol\":\"circle\"},\"mode\":\"markers\",\"name\":\"saxon\",\"scene\":\"scene\",\"showlegend\":true,\"x\":[-0.62943614],\"y\":[0.04396334],\"z\":[-0.2143941],\"type\":\"scatter3d\"},{\"hovertemplate\":\"color=first\\u003cbr\\u003e0=%{x}\\u003cbr\\u003e1=%{y}\\u003cbr\\u003e2=%{z}\\u003cextra\\u003e\\u003c\\u002fextra\\u003e\",\"legendgroup\":\"first\",\"marker\":{\"color\":\"#FECB52\",\"symbol\":\"circle\"},\"mode\":\"markers\",\"name\":\"first\",\"scene\":\"scene\",\"showlegend\":true,\"x\":[0.4498347],\"y\":[0.13620505],\"z\":[-0.05272162],\"type\":\"scatter3d\"},{\"hovertemplate\":\"color=won\\u003cbr\\u003e0=%{x}\\u003cbr\\u003e1=%{y}\\u003cbr\\u003e2=%{z}\\u003cextra\\u003e\\u003c\\u002fextra\\u003e\",\"legendgroup\":\"won\",\"marker\":{\"color\":\"#636efa\",\"symbol\":\"circle\"},\"mode\":\"markers\",\"name\":\"won\",\"scene\":\"scene\",\"showlegend\":true,\"x\":[0.377406],\"y\":[-0.30678377],\"z\":[0.05443865],\"type\":\"scatter3d\"},{\"hovertemplate\":\"color=jarl\\u003cbr\\u003e0=%{x}\\u003cbr\\u003e1=%{y}\\u003cbr\\u003e2=%{z}\\u003cextra\\u003e\\u003c\\u002fextra\\u003e\",\"legendgroup\":\"jarl\",\"marker\":{\"color\":\"#EF553B\",\"symbol\":\"circle\"},\"mode\":\"markers\",\"name\":\"jarl\",\"scene\":\"scene\",\"showlegend\":true,\"x\":[-0.052179895],\"y\":[0.22013284],\"z\":[0.14242595],\"type\":\"scatter3d\"},{\"hovertemplate\":\"color=return\\u003cbr\\u003e0=%{x}\\u003cbr\\u003e1=%{y}\\u003cbr\\u003e2=%{z}\\u003cextra\\u003e\\u003c\\u002fextra\\u003e\",\"legendgroup\":\"return\",\"marker\":{\"color\":\"#00cc96\",\"symbol\":\"circle\"},\"mode\":\"markers\",\"name\":\"return\",\"scene\":\"scene\",\"showlegend\":true,\"x\":[0.5478363],\"y\":[0.08957058],\"z\":[-0.03512466],\"type\":\"scatter3d\"},{\"hovertemplate\":\"color=two\\u003cbr\\u003e0=%{x}\\u003cbr\\u003e1=%{y}\\u003cbr\\u003e2=%{z}\\u003cextra\\u003e\\u003c\\u002fextra\\u003e\",\"legendgroup\":\"two\",\"marker\":{\"color\":\"#ab63fa\",\"symbol\":\"circle\"},\"mode\":\"markers\",\"name\":\"two\",\"scene\":\"scene\",\"showlegend\":true,\"x\":[0.060740296],\"y\":[0.021597829],\"z\":[0.07031375],\"type\":\"scatter3d\"},{\"hovertemplate\":\"color=thought\\u003cbr\\u003e0=%{x}\\u003cbr\\u003e1=%{y}\\u003cbr\\u003e2=%{z}\\u003cextra\\u003e\\u003c\\u002fextra\\u003e\",\"legendgroup\":\"thought\",\"marker\":{\"color\":\"#FFA15A\",\"symbol\":\"circle\"},\"mode\":\"markers\",\"name\":\"thought\",\"scene\":\"scene\",\"showlegend\":true,\"x\":[0.5150641],\"y\":[-0.22065346],\"z\":[-0.12840778],\"type\":\"scatter3d\"},{\"hovertemplate\":\"color=voice\\u003cbr\\u003e0=%{x}\\u003cbr\\u003e1=%{y}\\u003cbr\\u003e2=%{z}\\u003cextra\\u003e\\u003c\\u002fextra\\u003e\",\"legendgroup\":\"voice\",\"marker\":{\"color\":\"#19d3f3\",\"symbol\":\"circle\"},\"mode\":\"markers\",\"name\":\"voice\",\"scene\":\"scene\",\"showlegend\":true,\"x\":[-0.1380941],\"y\":[-0.576244],\"z\":[-0.46429986],\"type\":\"scatter3d\"},{\"hovertemplate\":\"color=mean\\u003cbr\\u003e0=%{x}\\u003cbr\\u003e1=%{y}\\u003cbr\\u003e2=%{z}\\u003cextra\\u003e\\u003c\\u002fextra\\u003e\",\"legendgroup\":\"mean\",\"marker\":{\"color\":\"#FF6692\",\"symbol\":\"circle\"},\"mode\":\"markers\",\"name\":\"mean\",\"scene\":\"scene\",\"showlegend\":true,\"x\":[0.43356204],\"y\":[-0.2307026],\"z\":[0.077325344],\"type\":\"scatter3d\"},{\"hovertemplate\":\"color=family\\u003cbr\\u003e0=%{x}\\u003cbr\\u003e1=%{y}\\u003cbr\\u003e2=%{z}\\u003cextra\\u003e\\u003c\\u002fextra\\u003e\",\"legendgroup\":\"family\",\"marker\":{\"color\":\"#B6E880\",\"symbol\":\"circle\"},\"mode\":\"markers\",\"name\":\"family\",\"scene\":\"scene\",\"showlegend\":true,\"x\":[0.49390617],\"y\":[0.1808688],\"z\":[-0.07818115],\"type\":\"scatter3d\"},{\"hovertemplate\":\"color=wessex\\u003cbr\\u003e0=%{x}\\u003cbr\\u003e1=%{y}\\u003cbr\\u003e2=%{z}\\u003cextra\\u003e\\u003c\\u002fextra\\u003e\",\"legendgroup\":\"wessex\",\"marker\":{\"color\":\"#FF97FF\",\"symbol\":\"circle\"},\"mode\":\"markers\",\"name\":\"wessex\",\"scene\":\"scene\",\"showlegend\":true,\"x\":[0.21150057],\"y\":[0.46407145],\"z\":[-0.011439502],\"type\":\"scatter3d\"},{\"hovertemplate\":\"color=shield\\u003cbr\\u003e0=%{x}\\u003cbr\\u003e1=%{y}\\u003cbr\\u003e2=%{z}\\u003cextra\\u003e\\u003c\\u002fextra\\u003e\",\"legendgroup\":\"shield\",\"marker\":{\"color\":\"#FECB52\",\"symbol\":\"circle\"},\"mode\":\"markers\",\"name\":\"shield\",\"scene\":\"scene\",\"showlegend\":true,\"x\":[-0.38608345],\"y\":[0.109221965],\"z\":[-0.049620867],\"type\":\"scatter3d\"},{\"hovertemplate\":\"color=sing\\u003cbr\\u003e0=%{x}\\u003cbr\\u003e1=%{y}\\u003cbr\\u003e2=%{z}\\u003cextra\\u003e\\u003c\\u002fextra\\u003e\",\"legendgroup\":\"sing\",\"marker\":{\"color\":\"#636efa\",\"symbol\":\"circle\"},\"mode\":\"markers\",\"name\":\"sing\",\"scene\":\"scene\",\"showlegend\":true,\"x\":[-0.21150437],\"y\":[-0.5627757],\"z\":[-0.52092135],\"type\":\"scatter3d\"},{\"hovertemplate\":\"color=wanted\\u003cbr\\u003e0=%{x}\\u003cbr\\u003e1=%{y}\\u003cbr\\u003e2=%{z}\\u003cextra\\u003e\\u003c\\u002fextra\\u003e\",\"legendgroup\":\"wanted\",\"marker\":{\"color\":\"#EF553B\",\"symbol\":\"circle\"},\"mode\":\"markers\",\"name\":\"wanted\",\"scene\":\"scene\",\"showlegend\":true,\"x\":[0.5807496],\"y\":[-0.26519156],\"z\":[-0.11415106],\"type\":\"scatter3d\"},{\"hovertemplate\":\"color=torvi\\u003cbr\\u003e0=%{x}\\u003cbr\\u003e1=%{y}\\u003cbr\\u003e2=%{z}\\u003cextra\\u003e\\u003c\\u002fextra\\u003e\",\"legendgroup\":\"torvi\",\"marker\":{\"color\":\"#00cc96\",\"symbol\":\"circle\"},\"mode\":\"markers\",\"name\":\"torvi\",\"scene\":\"scene\",\"showlegend\":true,\"x\":[0.0016934089],\"y\":[-0.07209534],\"z\":[0.079193294],\"type\":\"scatter3d\"},{\"hovertemplate\":\"color=odin\\u003cbr\\u003e0=%{x}\\u003cbr\\u003e1=%{y}\\u003cbr\\u003e2=%{z}\\u003cextra\\u003e\\u003c\\u002fextra\\u003e\",\"legendgroup\":\"odin\",\"marker\":{\"color\":\"#ab63fa\",\"symbol\":\"circle\"},\"mode\":\"markers\",\"name\":\"odin\",\"scene\":\"scene\",\"showlegend\":true,\"x\":[0.061609402],\"y\":[0.2245468],\"z\":[0.030029416],\"type\":\"scatter3d\"},{\"hovertemplate\":\"color=which\\u003cbr\\u003e0=%{x}\\u003cbr\\u003e1=%{y}\\u003cbr\\u003e2=%{z}\\u003cextra\\u003e\\u003c\\u002fextra\\u003e\",\"legendgroup\":\"which\",\"marker\":{\"color\":\"#FFA15A\",\"symbol\":\"circle\"},\"mode\":\"markers\",\"name\":\"which\",\"scene\":\"scene\",\"showlegend\":true,\"x\":[0.38413173],\"y\":[0.24060537],\"z\":[-0.01287955],\"type\":\"scatter3d\"},{\"hovertemplate\":\"color=yourself\\u003cbr\\u003e0=%{x}\\u003cbr\\u003e1=%{y}\\u003cbr\\u003e2=%{z}\\u003cextra\\u003e\\u003c\\u002fextra\\u003e\",\"legendgroup\":\"yourself\",\"marker\":{\"color\":\"#19d3f3\",\"symbol\":\"circle\"},\"mode\":\"markers\",\"name\":\"yourself\",\"scene\":\"scene\",\"showlegend\":true,\"x\":[0.48918474],\"y\":[-0.1648728],\"z\":[0.04540527],\"type\":\"scatter3d\"},{\"hovertemplate\":\"color=didn\\u003cbr\\u003e0=%{x}\\u003cbr\\u003e1=%{y}\\u003cbr\\u003e2=%{z}\\u003cextra\\u003e\\u003c\\u002fextra\\u003e\",\"legendgroup\":\"didn\",\"marker\":{\"color\":\"#FF6692\",\"symbol\":\"circle\"},\"mode\":\"markers\",\"name\":\"didn\",\"scene\":\"scene\",\"showlegend\":true,\"x\":[0.47454122],\"y\":[-0.35263616],\"z\":[0.031852245],\"type\":\"scatter3d\"},{\"hovertemplate\":\"color=heard\\u003cbr\\u003e0=%{x}\\u003cbr\\u003e1=%{y}\\u003cbr\\u003e2=%{z}\\u003cextra\\u003e\\u003c\\u002fextra\\u003e\",\"legendgroup\":\"heard\",\"marker\":{\"color\":\"#B6E880\",\"symbol\":\"circle\"},\"mode\":\"markers\",\"name\":\"heard\",\"scene\":\"scene\",\"showlegend\":true,\"x\":[0.23486656],\"y\":[0.07893184],\"z\":[0.08494371],\"type\":\"scatter3d\"},{\"hovertemplate\":\"color=stop\\u003cbr\\u003e0=%{x}\\u003cbr\\u003e1=%{y}\\u003cbr\\u003e2=%{z}\\u003cextra\\u003e\\u003c\\u002fextra\\u003e\",\"legendgroup\":\"stop\",\"marker\":{\"color\":\"#FF97FF\",\"symbol\":\"circle\"},\"mode\":\"markers\",\"name\":\"stop\",\"scene\":\"scene\",\"showlegend\":true,\"x\":[0.032813035],\"y\":[-0.24010582],\"z\":[0.13152725],\"type\":\"scatter3d\"},{\"hovertemplate\":\"color=screams\\u003cbr\\u003e0=%{x}\\u003cbr\\u003e1=%{y}\\u003cbr\\u003e2=%{z}\\u003cextra\\u003e\\u003c\\u002fextra\\u003e\",\"legendgroup\":\"screams\",\"marker\":{\"color\":\"#FECB52\",\"symbol\":\"circle\"},\"mode\":\"markers\",\"name\":\"screams\",\"scene\":\"scene\",\"showlegend\":true,\"x\":[-0.54044217],\"y\":[-0.054037105],\"z\":[-0.07415444],\"type\":\"scatter3d\"},{\"hovertemplate\":\"color=fighting\\u003cbr\\u003e0=%{x}\\u003cbr\\u003e1=%{y}\\u003cbr\\u003e2=%{z}\\u003cextra\\u003e\\u003c\\u002fextra\\u003e\",\"legendgroup\":\"fighting\",\"marker\":{\"color\":\"#636efa\",\"symbol\":\"circle\"},\"mode\":\"markers\",\"name\":\"fighting\",\"scene\":\"scene\",\"showlegend\":true,\"x\":[-0.37003493],\"y\":[-0.0028890725],\"z\":[0.027186573],\"type\":\"scatter3d\"},{\"hovertemplate\":\"color=paris\\u003cbr\\u003e0=%{x}\\u003cbr\\u003e1=%{y}\\u003cbr\\u003e2=%{z}\\u003cextra\\u003e\\u003c\\u002fextra\\u003e\",\"legendgroup\":\"paris\",\"marker\":{\"color\":\"#EF553B\",\"symbol\":\"circle\"},\"mode\":\"markers\",\"name\":\"paris\",\"scene\":\"scene\",\"showlegend\":true,\"x\":[0.32680723],\"y\":[0.116699725],\"z\":[0.076018214],\"type\":\"scatter3d\"},{\"hovertemplate\":\"color=seer\\u003cbr\\u003e0=%{x}\\u003cbr\\u003e1=%{y}\\u003cbr\\u003e2=%{z}\\u003cextra\\u003e\\u003c\\u002fextra\\u003e\",\"legendgroup\":\"seer\",\"marker\":{\"color\":\"#00cc96\",\"symbol\":\"circle\"},\"mode\":\"markers\",\"name\":\"seer\",\"scene\":\"scene\",\"showlegend\":true,\"x\":[0.23930469],\"y\":[-0.18155634],\"z\":[0.06343585],\"type\":\"scatter3d\"},{\"hovertemplate\":\"color=kingdom\\u003cbr\\u003e0=%{x}\\u003cbr\\u003e1=%{y}\\u003cbr\\u003e2=%{z}\\u003cextra\\u003e\\u003c\\u002fextra\\u003e\",\"legendgroup\":\"kingdom\",\"marker\":{\"color\":\"#ab63fa\",\"symbol\":\"circle\"},\"mode\":\"markers\",\"name\":\"kingdom\",\"scene\":\"scene\",\"showlegend\":true,\"x\":[0.1925856],\"y\":[0.4776209],\"z\":[-0.023789167],\"type\":\"scatter3d\"},{\"hovertemplate\":\"color=siggy\\u003cbr\\u003e0=%{x}\\u003cbr\\u003e1=%{y}\\u003cbr\\u003e2=%{z}\\u003cextra\\u003e\\u003c\\u002fextra\\u003e\",\"legendgroup\":\"siggy\",\"marker\":{\"color\":\"#FFA15A\",\"symbol\":\"circle\"},\"mode\":\"markers\",\"name\":\"siggy\",\"scene\":\"scene\",\"showlegend\":true,\"x\":[-0.16770561],\"y\":[-0.17112732],\"z\":[0.1317749],\"type\":\"scatter3d\"},{\"hovertemplate\":\"color=borg\\u003cbr\\u003e0=%{x}\\u003cbr\\u003e1=%{y}\\u003cbr\\u003e2=%{z}\\u003cextra\\u003e\\u003c\\u002fextra\\u003e\",\"legendgroup\":\"borg\",\"marker\":{\"color\":\"#19d3f3\",\"symbol\":\"circle\"},\"mode\":\"markers\",\"name\":\"borg\",\"scene\":\"scene\",\"showlegend\":true,\"x\":[-0.03999508],\"y\":[0.29322082],\"z\":[0.12368518],\"type\":\"scatter3d\"},{\"hovertemplate\":\"color=done\\u003cbr\\u003e0=%{x}\\u003cbr\\u003e1=%{y}\\u003cbr\\u003e2=%{z}\\u003cextra\\u003e\\u003c\\u002fextra\\u003e\",\"legendgroup\":\"done\",\"marker\":{\"color\":\"#FF6692\",\"symbol\":\"circle\"},\"mode\":\"markers\",\"name\":\"done\",\"scene\":\"scene\",\"showlegend\":true,\"x\":[0.59795225],\"y\":[-0.20670128],\"z\":[-0.08362186],\"type\":\"scatter3d\"},{\"hovertemplate\":\"color=care\\u003cbr\\u003e0=%{x}\\u003cbr\\u003e1=%{y}\\u003cbr\\u003e2=%{z}\\u003cextra\\u003e\\u003c\\u002fextra\\u003e\",\"legendgroup\":\"care\",\"marker\":{\"color\":\"#B6E880\",\"symbol\":\"circle\"},\"mode\":\"markers\",\"name\":\"care\",\"scene\":\"scene\",\"showlegend\":true,\"x\":[0.52730995],\"y\":[-0.21583724],\"z\":[0.012926638],\"type\":\"scatter3d\"},{\"hovertemplate\":\"color=christian\\u003cbr\\u003e0=%{x}\\u003cbr\\u003e1=%{y}\\u003cbr\\u003e2=%{z}\\u003cextra\\u003e\\u003c\\u002fextra\\u003e\",\"legendgroup\":\"christian\",\"marker\":{\"color\":\"#FF97FF\",\"symbol\":\"circle\"},\"mode\":\"markers\",\"name\":\"christian\",\"scene\":\"scene\",\"showlegend\":true,\"x\":[0.24564926],\"y\":[0.14912373],\"z\":[0.039805055],\"type\":\"scatter3d\"},{\"hovertemplate\":\"color=husband\\u003cbr\\u003e0=%{x}\\u003cbr\\u003e1=%{y}\\u003cbr\\u003e2=%{z}\\u003cextra\\u003e\\u003c\\u002fextra\\u003e\",\"legendgroup\":\"husband\",\"marker\":{\"color\":\"#FECB52\",\"symbol\":\"circle\"},\"mode\":\"markers\",\"name\":\"husband\",\"scene\":\"scene\",\"showlegend\":true,\"x\":[0.37380373],\"y\":[0.045927804],\"z\":[-0.00600785],\"type\":\"scatter3d\"},{\"hovertemplate\":\"color=else\\u003cbr\\u003e0=%{x}\\u003cbr\\u003e1=%{y}\\u003cbr\\u003e2=%{z}\\u003cextra\\u003e\\u003c\\u002fextra\\u003e\",\"legendgroup\":\"else\",\"marker\":{\"color\":\"#636efa\",\"symbol\":\"circle\"},\"mode\":\"markers\",\"name\":\"else\",\"scene\":\"scene\",\"showlegend\":true,\"x\":[0.53725433],\"y\":[-0.2944505],\"z\":[-0.060294926],\"type\":\"scatter3d\"},{\"hovertemplate\":\"color=children\\u003cbr\\u003e0=%{x}\\u003cbr\\u003e1=%{y}\\u003cbr\\u003e2=%{z}\\u003cextra\\u003e\\u003c\\u002fextra\\u003e\",\"legendgroup\":\"children\",\"marker\":{\"color\":\"#EF553B\",\"symbol\":\"circle\"},\"mode\":\"markers\",\"name\":\"children\",\"scene\":\"scene\",\"showlegend\":true,\"x\":[0.18233994],\"y\":[-0.025963847],\"z\":[-0.020329475],\"type\":\"scatter3d\"},{\"hovertemplate\":\"color=door\\u003cbr\\u003e0=%{x}\\u003cbr\\u003e1=%{y}\\u003cbr\\u003e2=%{z}\\u003cextra\\u003e\\u003c\\u002fextra\\u003e\",\"legendgroup\":\"door\",\"marker\":{\"color\":\"#00cc96\",\"symbol\":\"circle\"},\"mode\":\"markers\",\"name\":\"door\",\"scene\":\"scene\",\"showlegend\":true,\"x\":[-0.6076567],\"y\":[-0.10525727],\"z\":[-0.09531438],\"type\":\"scatter3d\"},{\"hovertemplate\":\"color=battle\\u003cbr\\u003e0=%{x}\\u003cbr\\u003e1=%{y}\\u003cbr\\u003e2=%{z}\\u003cextra\\u003e\\u003c\\u002fextra\\u003e\",\"legendgroup\":\"battle\",\"marker\":{\"color\":\"#ab63fa\",\"symbol\":\"circle\"},\"mode\":\"markers\",\"name\":\"battle\",\"scene\":\"scene\",\"showlegend\":true,\"x\":[-0.076876834],\"y\":[0.19886693],\"z\":[0.004152],\"type\":\"scatter3d\"},{\"hovertemplate\":\"color=better\\u003cbr\\u003e0=%{x}\\u003cbr\\u003e1=%{y}\\u003cbr\\u003e2=%{z}\\u003cextra\\u003e\\u003c\\u002fextra\\u003e\",\"legendgroup\":\"better\",\"marker\":{\"color\":\"#FFA15A\",\"symbol\":\"circle\"},\"mode\":\"markers\",\"name\":\"better\",\"scene\":\"scene\",\"showlegend\":true,\"x\":[0.52269804],\"y\":[-0.38946652],\"z\":[-0.21440297],\"type\":\"scatter3d\"},{\"hovertemplate\":\"color=anything\\u003cbr\\u003e0=%{x}\\u003cbr\\u003e1=%{y}\\u003cbr\\u003e2=%{z}\\u003cextra\\u003e\\u003c\\u002fextra\\u003e\",\"legendgroup\":\"anything\",\"marker\":{\"color\":\"#19d3f3\",\"symbol\":\"circle\"},\"mode\":\"markers\",\"name\":\"anything\",\"scene\":\"scene\",\"showlegend\":true,\"x\":[0.5452422],\"y\":[-0.3546194],\"z\":[-0.042867243],\"type\":\"scatter3d\"},{\"hovertemplate\":\"color=horn\\u003cbr\\u003e0=%{x}\\u003cbr\\u003e1=%{y}\\u003cbr\\u003e2=%{z}\\u003cextra\\u003e\\u003c\\u002fextra\\u003e\",\"legendgroup\":\"horn\",\"marker\":{\"color\":\"#FF6692\",\"symbol\":\"circle\"},\"mode\":\"markers\",\"name\":\"horn\",\"scene\":\"scene\",\"showlegend\":true,\"x\":[-0.6671058],\"y\":[-0.114623845],\"z\":[-0.2024886],\"type\":\"scatter3d\"},{\"hovertemplate\":\"color=footsteps\\u003cbr\\u003e0=%{x}\\u003cbr\\u003e1=%{y}\\u003cbr\\u003e2=%{z}\\u003cextra\\u003e\\u003c\\u002fextra\\u003e\",\"legendgroup\":\"footsteps\",\"marker\":{\"color\":\"#B6E880\",\"symbol\":\"circle\"},\"mode\":\"markers\",\"name\":\"footsteps\",\"scene\":\"scene\",\"showlegend\":true,\"x\":[-0.62412584],\"y\":[-0.00460249],\"z\":[-0.11690813],\"type\":\"scatter3d\"},{\"hovertemplate\":\"color=forgive\\u003cbr\\u003e0=%{x}\\u003cbr\\u003e1=%{y}\\u003cbr\\u003e2=%{z}\\u003cextra\\u003e\\u003c\\u002fextra\\u003e\",\"legendgroup\":\"forgive\",\"marker\":{\"color\":\"#FF97FF\",\"symbol\":\"circle\"},\"mode\":\"markers\",\"name\":\"forgive\",\"scene\":\"scene\",\"showlegend\":true,\"x\":[0.38629347],\"y\":[-0.14237694],\"z\":[0.015618086],\"type\":\"scatter3d\"},{\"hovertemplate\":\"color=women\\u003cbr\\u003e0=%{x}\\u003cbr\\u003e1=%{y}\\u003cbr\\u003e2=%{z}\\u003cextra\\u003e\\u003c\\u002fextra\\u003e\",\"legendgroup\":\"women\",\"marker\":{\"color\":\"#FECB52\",\"symbol\":\"circle\"},\"mode\":\"markers\",\"name\":\"women\",\"scene\":\"scene\",\"showlegend\":true,\"x\":[-0.16125098],\"y\":[-0.14829923],\"z\":[0.03447944],\"type\":\"scatter3d\"},{\"hovertemplate\":\"color=pain\\u003cbr\\u003e0=%{x}\\u003cbr\\u003e1=%{y}\\u003cbr\\u003e2=%{z}\\u003cextra\\u003e\\u003c\\u002fextra\\u003e\",\"legendgroup\":\"pain\",\"marker\":{\"color\":\"#636efa\",\"symbol\":\"circle\"},\"mode\":\"markers\",\"name\":\"pain\",\"scene\":\"scene\",\"showlegend\":true,\"x\":[-0.59141874],\"y\":[-0.0020510703],\"z\":[-0.18064767],\"type\":\"scatter3d\"},{\"hovertemplate\":\"color=helga\\u003cbr\\u003e0=%{x}\\u003cbr\\u003e1=%{y}\\u003cbr\\u003e2=%{z}\\u003cextra\\u003e\\u003c\\u002fextra\\u003e\",\"legendgroup\":\"helga\",\"marker\":{\"color\":\"#EF553B\",\"symbol\":\"circle\"},\"mode\":\"markers\",\"name\":\"helga\",\"scene\":\"scene\",\"showlegend\":true,\"x\":[0.033901595],\"y\":[-0.23146328],\"z\":[0.14349836],\"type\":\"scatter3d\"},{\"hovertemplate\":\"color=afraid\\u003cbr\\u003e0=%{x}\\u003cbr\\u003e1=%{y}\\u003cbr\\u003e2=%{z}\\u003cextra\\u003e\\u003c\\u002fextra\\u003e\",\"legendgroup\":\"afraid\",\"marker\":{\"color\":\"#00cc96\",\"symbol\":\"circle\"},\"mode\":\"markers\",\"name\":\"afraid\",\"scene\":\"scene\",\"showlegend\":true,\"x\":[0.41360742],\"y\":[-0.15354232],\"z\":[0.09485251],\"type\":\"scatter3d\"},{\"hovertemplate\":\"color=ah\\u003cbr\\u003e0=%{x}\\u003cbr\\u003e1=%{y}\\u003cbr\\u003e2=%{z}\\u003cextra\\u003e\\u003c\\u002fextra\\u003e\",\"legendgroup\":\"ah\",\"marker\":{\"color\":\"#ab63fa\",\"symbol\":\"circle\"},\"mode\":\"markers\",\"name\":\"ah\",\"scene\":\"scene\",\"showlegend\":true,\"x\":[-0.21474782],\"y\":[-0.5867956],\"z\":[-0.22549564],\"type\":\"scatter3d\"},{\"hovertemplate\":\"color=happy\\u003cbr\\u003e0=%{x}\\u003cbr\\u003e1=%{y}\\u003cbr\\u003e2=%{z}\\u003cextra\\u003e\\u003c\\u002fextra\\u003e\",\"legendgroup\":\"happy\",\"marker\":{\"color\":\"#FFA15A\",\"symbol\":\"circle\"},\"mode\":\"markers\",\"name\":\"happy\",\"scene\":\"scene\",\"showlegend\":true,\"x\":[0.516868],\"y\":[-0.1710319],\"z\":[0.07493657],\"type\":\"scatter3d\"},{\"hovertemplate\":\"color=most\\u003cbr\\u003e0=%{x}\\u003cbr\\u003e1=%{y}\\u003cbr\\u003e2=%{z}\\u003cextra\\u003e\\u003c\\u002fextra\\u003e\",\"legendgroup\":\"most\",\"marker\":{\"color\":\"#19d3f3\",\"symbol\":\"circle\"},\"mode\":\"markers\",\"name\":\"most\",\"scene\":\"scene\",\"showlegend\":true,\"x\":[0.16137123],\"y\":[0.3198657],\"z\":[0.029733658],\"type\":\"scatter3d\"},{\"hovertemplate\":\"color=already\\u003cbr\\u003e0=%{x}\\u003cbr\\u003e1=%{y}\\u003cbr\\u003e2=%{z}\\u003cextra\\u003e\\u003c\\u002fextra\\u003e\",\"legendgroup\":\"already\",\"marker\":{\"color\":\"#FF6692\",\"symbol\":\"circle\"},\"mode\":\"markers\",\"name\":\"already\",\"scene\":\"scene\",\"showlegend\":true,\"x\":[0.43702558],\"y\":[0.020153131],\"z\":[0.04831606],\"type\":\"scatter3d\"},{\"hovertemplate\":\"color=weapons\\u003cbr\\u003e0=%{x}\\u003cbr\\u003e1=%{y}\\u003cbr\\u003e2=%{z}\\u003cextra\\u003e\\u003c\\u002fextra\\u003e\",\"legendgroup\":\"weapons\",\"marker\":{\"color\":\"#B6E880\",\"symbol\":\"circle\"},\"mode\":\"markers\",\"name\":\"weapons\",\"scene\":\"scene\",\"showlegend\":true,\"x\":[-0.6507131],\"y\":[0.044099223],\"z\":[-0.16996473],\"type\":\"scatter3d\"},{\"hovertemplate\":\"color=bishop\\u003cbr\\u003e0=%{x}\\u003cbr\\u003e1=%{y}\\u003cbr\\u003e2=%{z}\\u003cextra\\u003e\\u003c\\u002fextra\\u003e\",\"legendgroup\":\"bishop\",\"marker\":{\"color\":\"#FF97FF\",\"symbol\":\"circle\"},\"mode\":\"markers\",\"name\":\"bishop\",\"scene\":\"scene\",\"showlegend\":true,\"x\":[-0.30952954],\"y\":[0.10945837],\"z\":[0.06128043],\"type\":\"scatter3d\"},{\"hovertemplate\":\"color=hard\\u003cbr\\u003e0=%{x}\\u003cbr\\u003e1=%{y}\\u003cbr\\u003e2=%{z}\\u003cextra\\u003e\\u003c\\u002fextra\\u003e\",\"legendgroup\":\"hard\",\"marker\":{\"color\":\"#FECB52\",\"symbol\":\"circle\"},\"mode\":\"markers\",\"name\":\"hard\",\"scene\":\"scene\",\"showlegend\":true,\"x\":[-0.42232016],\"y\":[-0.07650953],\"z\":[0.031083345],\"type\":\"scatter3d\"}],                        {\"template\":{\"data\":{\"histogram2dcontour\":[{\"type\":\"histogram2dcontour\",\"colorbar\":{\"outlinewidth\":0,\"ticks\":\"\"},\"colorscale\":[[0.0,\"#0d0887\"],[0.1111111111111111,\"#46039f\"],[0.2222222222222222,\"#7201a8\"],[0.3333333333333333,\"#9c179e\"],[0.4444444444444444,\"#bd3786\"],[0.5555555555555556,\"#d8576b\"],[0.6666666666666666,\"#ed7953\"],[0.7777777777777778,\"#fb9f3a\"],[0.8888888888888888,\"#fdca26\"],[1.0,\"#f0f921\"]]}],\"choropleth\":[{\"type\":\"choropleth\",\"colorbar\":{\"outlinewidth\":0,\"ticks\":\"\"}}],\"histogram2d\":[{\"type\":\"histogram2d\",\"colorbar\":{\"outlinewidth\":0,\"ticks\":\"\"},\"colorscale\":[[0.0,\"#0d0887\"],[0.1111111111111111,\"#46039f\"],[0.2222222222222222,\"#7201a8\"],[0.3333333333333333,\"#9c179e\"],[0.4444444444444444,\"#bd3786\"],[0.5555555555555556,\"#d8576b\"],[0.6666666666666666,\"#ed7953\"],[0.7777777777777778,\"#fb9f3a\"],[0.8888888888888888,\"#fdca26\"],[1.0,\"#f0f921\"]]}],\"heatmap\":[{\"type\":\"heatmap\",\"colorbar\":{\"outlinewidth\":0,\"ticks\":\"\"},\"colorscale\":[[0.0,\"#0d0887\"],[0.1111111111111111,\"#46039f\"],[0.2222222222222222,\"#7201a8\"],[0.3333333333333333,\"#9c179e\"],[0.4444444444444444,\"#bd3786\"],[0.5555555555555556,\"#d8576b\"],[0.6666666666666666,\"#ed7953\"],[0.7777777777777778,\"#fb9f3a\"],[0.8888888888888888,\"#fdca26\"],[1.0,\"#f0f921\"]]}],\"heatmapgl\":[{\"type\":\"heatmapgl\",\"colorbar\":{\"outlinewidth\":0,\"ticks\":\"\"},\"colorscale\":[[0.0,\"#0d0887\"],[0.1111111111111111,\"#46039f\"],[0.2222222222222222,\"#7201a8\"],[0.3333333333333333,\"#9c179e\"],[0.4444444444444444,\"#bd3786\"],[0.5555555555555556,\"#d8576b\"],[0.6666666666666666,\"#ed7953\"],[0.7777777777777778,\"#fb9f3a\"],[0.8888888888888888,\"#fdca26\"],[1.0,\"#f0f921\"]]}],\"contourcarpet\":[{\"type\":\"contourcarpet\",\"colorbar\":{\"outlinewidth\":0,\"ticks\":\"\"}}],\"contour\":[{\"type\":\"contour\",\"colorbar\":{\"outlinewidth\":0,\"ticks\":\"\"},\"colorscale\":[[0.0,\"#0d0887\"],[0.1111111111111111,\"#46039f\"],[0.2222222222222222,\"#7201a8\"],[0.3333333333333333,\"#9c179e\"],[0.4444444444444444,\"#bd3786\"],[0.5555555555555556,\"#d8576b\"],[0.6666666666666666,\"#ed7953\"],[0.7777777777777778,\"#fb9f3a\"],[0.8888888888888888,\"#fdca26\"],[1.0,\"#f0f921\"]]}],\"surface\":[{\"type\":\"surface\",\"colorbar\":{\"outlinewidth\":0,\"ticks\":\"\"},\"colorscale\":[[0.0,\"#0d0887\"],[0.1111111111111111,\"#46039f\"],[0.2222222222222222,\"#7201a8\"],[0.3333333333333333,\"#9c179e\"],[0.4444444444444444,\"#bd3786\"],[0.5555555555555556,\"#d8576b\"],[0.6666666666666666,\"#ed7953\"],[0.7777777777777778,\"#fb9f3a\"],[0.8888888888888888,\"#fdca26\"],[1.0,\"#f0f921\"]]}],\"mesh3d\":[{\"type\":\"mesh3d\",\"colorbar\":{\"outlinewidth\":0,\"ticks\":\"\"}}],\"scatter\":[{\"fillpattern\":{\"fillmode\":\"overlay\",\"size\":10,\"solidity\":0.2},\"type\":\"scatter\"}],\"parcoords\":[{\"type\":\"parcoords\",\"line\":{\"colorbar\":{\"outlinewidth\":0,\"ticks\":\"\"}}}],\"scatterpolargl\":[{\"type\":\"scatterpolargl\",\"marker\":{\"colorbar\":{\"outlinewidth\":0,\"ticks\":\"\"}}}],\"bar\":[{\"error_x\":{\"color\":\"#2a3f5f\"},\"error_y\":{\"color\":\"#2a3f5f\"},\"marker\":{\"line\":{\"color\":\"#E5ECF6\",\"width\":0.5},\"pattern\":{\"fillmode\":\"overlay\",\"size\":10,\"solidity\":0.2}},\"type\":\"bar\"}],\"scattergeo\":[{\"type\":\"scattergeo\",\"marker\":{\"colorbar\":{\"outlinewidth\":0,\"ticks\":\"\"}}}],\"scatterpolar\":[{\"type\":\"scatterpolar\",\"marker\":{\"colorbar\":{\"outlinewidth\":0,\"ticks\":\"\"}}}],\"histogram\":[{\"marker\":{\"pattern\":{\"fillmode\":\"overlay\",\"size\":10,\"solidity\":0.2}},\"type\":\"histogram\"}],\"scattergl\":[{\"type\":\"scattergl\",\"marker\":{\"colorbar\":{\"outlinewidth\":0,\"ticks\":\"\"}}}],\"scatter3d\":[{\"type\":\"scatter3d\",\"line\":{\"colorbar\":{\"outlinewidth\":0,\"ticks\":\"\"}},\"marker\":{\"colorbar\":{\"outlinewidth\":0,\"ticks\":\"\"}}}],\"scattermapbox\":[{\"type\":\"scattermapbox\",\"marker\":{\"colorbar\":{\"outlinewidth\":0,\"ticks\":\"\"}}}],\"scatterternary\":[{\"type\":\"scatterternary\",\"marker\":{\"colorbar\":{\"outlinewidth\":0,\"ticks\":\"\"}}}],\"scattercarpet\":[{\"type\":\"scattercarpet\",\"marker\":{\"colorbar\":{\"outlinewidth\":0,\"ticks\":\"\"}}}],\"carpet\":[{\"aaxis\":{\"endlinecolor\":\"#2a3f5f\",\"gridcolor\":\"white\",\"linecolor\":\"white\",\"minorgridcolor\":\"white\",\"startlinecolor\":\"#2a3f5f\"},\"baxis\":{\"endlinecolor\":\"#2a3f5f\",\"gridcolor\":\"white\",\"linecolor\":\"white\",\"minorgridcolor\":\"white\",\"startlinecolor\":\"#2a3f5f\"},\"type\":\"carpet\"}],\"table\":[{\"cells\":{\"fill\":{\"color\":\"#EBF0F8\"},\"line\":{\"color\":\"white\"}},\"header\":{\"fill\":{\"color\":\"#C8D4E3\"},\"line\":{\"color\":\"white\"}},\"type\":\"table\"}],\"barpolar\":[{\"marker\":{\"line\":{\"color\":\"#E5ECF6\",\"width\":0.5},\"pattern\":{\"fillmode\":\"overlay\",\"size\":10,\"solidity\":0.2}},\"type\":\"barpolar\"}],\"pie\":[{\"automargin\":true,\"type\":\"pie\"}]},\"layout\":{\"autotypenumbers\":\"strict\",\"colorway\":[\"#636efa\",\"#EF553B\",\"#00cc96\",\"#ab63fa\",\"#FFA15A\",\"#19d3f3\",\"#FF6692\",\"#B6E880\",\"#FF97FF\",\"#FECB52\"],\"font\":{\"color\":\"#2a3f5f\"},\"hovermode\":\"closest\",\"hoverlabel\":{\"align\":\"left\"},\"paper_bgcolor\":\"white\",\"plot_bgcolor\":\"#E5ECF6\",\"polar\":{\"bgcolor\":\"#E5ECF6\",\"angularaxis\":{\"gridcolor\":\"white\",\"linecolor\":\"white\",\"ticks\":\"\"},\"radialaxis\":{\"gridcolor\":\"white\",\"linecolor\":\"white\",\"ticks\":\"\"}},\"ternary\":{\"bgcolor\":\"#E5ECF6\",\"aaxis\":{\"gridcolor\":\"white\",\"linecolor\":\"white\",\"ticks\":\"\"},\"baxis\":{\"gridcolor\":\"white\",\"linecolor\":\"white\",\"ticks\":\"\"},\"caxis\":{\"gridcolor\":\"white\",\"linecolor\":\"white\",\"ticks\":\"\"}},\"coloraxis\":{\"colorbar\":{\"outlinewidth\":0,\"ticks\":\"\"}},\"colorscale\":{\"sequential\":[[0.0,\"#0d0887\"],[0.1111111111111111,\"#46039f\"],[0.2222222222222222,\"#7201a8\"],[0.3333333333333333,\"#9c179e\"],[0.4444444444444444,\"#bd3786\"],[0.5555555555555556,\"#d8576b\"],[0.6666666666666666,\"#ed7953\"],[0.7777777777777778,\"#fb9f3a\"],[0.8888888888888888,\"#fdca26\"],[1.0,\"#f0f921\"]],\"sequentialminus\":[[0.0,\"#0d0887\"],[0.1111111111111111,\"#46039f\"],[0.2222222222222222,\"#7201a8\"],[0.3333333333333333,\"#9c179e\"],[0.4444444444444444,\"#bd3786\"],[0.5555555555555556,\"#d8576b\"],[0.6666666666666666,\"#ed7953\"],[0.7777777777777778,\"#fb9f3a\"],[0.8888888888888888,\"#fdca26\"],[1.0,\"#f0f921\"]],\"diverging\":[[0,\"#8e0152\"],[0.1,\"#c51b7d\"],[0.2,\"#de77ae\"],[0.3,\"#f1b6da\"],[0.4,\"#fde0ef\"],[0.5,\"#f7f7f7\"],[0.6,\"#e6f5d0\"],[0.7,\"#b8e186\"],[0.8,\"#7fbc41\"],[0.9,\"#4d9221\"],[1,\"#276419\"]]},\"xaxis\":{\"gridcolor\":\"white\",\"linecolor\":\"white\",\"ticks\":\"\",\"title\":{\"standoff\":15},\"zerolinecolor\":\"white\",\"automargin\":true,\"zerolinewidth\":2},\"yaxis\":{\"gridcolor\":\"white\",\"linecolor\":\"white\",\"ticks\":\"\",\"title\":{\"standoff\":15},\"zerolinecolor\":\"white\",\"automargin\":true,\"zerolinewidth\":2},\"scene\":{\"xaxis\":{\"backgroundcolor\":\"#E5ECF6\",\"gridcolor\":\"white\",\"linecolor\":\"white\",\"showbackground\":true,\"ticks\":\"\",\"zerolinecolor\":\"white\",\"gridwidth\":2},\"yaxis\":{\"backgroundcolor\":\"#E5ECF6\",\"gridcolor\":\"white\",\"linecolor\":\"white\",\"showbackground\":true,\"ticks\":\"\",\"zerolinecolor\":\"white\",\"gridwidth\":2},\"zaxis\":{\"backgroundcolor\":\"#E5ECF6\",\"gridcolor\":\"white\",\"linecolor\":\"white\",\"showbackground\":true,\"ticks\":\"\",\"zerolinecolor\":\"white\",\"gridwidth\":2}},\"shapedefaults\":{\"line\":{\"color\":\"#2a3f5f\"}},\"annotationdefaults\":{\"arrowcolor\":\"#2a3f5f\",\"arrowhead\":0,\"arrowwidth\":1},\"geo\":{\"bgcolor\":\"white\",\"landcolor\":\"#E5ECF6\",\"subunitcolor\":\"white\",\"showland\":true,\"showlakes\":true,\"lakecolor\":\"white\"},\"title\":{\"x\":0.05},\"mapbox\":{\"style\":\"light\"}}},\"scene\":{\"domain\":{\"x\":[0.0,1.0],\"y\":[0.0,1.0]},\"xaxis\":{\"title\":{\"text\":\"0\"}},\"yaxis\":{\"title\":{\"text\":\"1\"}},\"zaxis\":{\"title\":{\"text\":\"2\"}}},\"legend\":{\"title\":{\"text\":\"color\"},\"tracegroupgap\":0},\"margin\":{\"t\":60}},                        {\"responsive\": true}                    ).then(function(){\n",
              "                            \n",
              "var gd = document.getElementById('5b4d6e35-0a2c-434c-8bdd-bbae981c8ea1');\n",
              "var x = new MutationObserver(function (mutations, observer) {{\n",
              "        var display = window.getComputedStyle(gd).display;\n",
              "        if (!display || display === 'none') {{\n",
              "            console.log([gd, 'removed!']);\n",
              "            Plotly.purge(gd);\n",
              "            observer.disconnect();\n",
              "        }}\n",
              "}});\n",
              "\n",
              "// Listen for the removal of the full notebook cells\n",
              "var notebookContainer = gd.closest('#notebook-container');\n",
              "if (notebookContainer) {{\n",
              "    x.observe(notebookContainer, {childList: true});\n",
              "}}\n",
              "\n",
              "// Listen for the clearing of the current output cell\n",
              "var outputEl = gd.closest('.output');\n",
              "if (outputEl) {{\n",
              "    x.observe(outputEl, {childList: true});\n",
              "}}\n",
              "\n",
              "                        })                };                            </script>        </div>\n",
              "</body>\n",
              "</html>"
            ]
          },
          "metadata": {}
        }
      ]
    }
  ]
}